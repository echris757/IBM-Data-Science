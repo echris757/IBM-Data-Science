{
 "cells": [
  {
   "cell_type": "markdown",
   "id": "0a67ceb8-d738-483a-b549-b6803bd76024",
   "metadata": {},
   "source": [
    "# Data Science Tools and Ecosystem"
   ]
  },
  {
   "cell_type": "markdown",
   "id": "dd4cfbbc-c4fa-499e-a80d-c2b43e4cf8b3",
   "metadata": {},
   "source": [
    "## In this notebook, Data Science tools and ecosystem are summarized"
   ]
  },
  {
   "cell_type": "markdown",
   "id": "d40663ac-8f0b-42de-bf40-8a453d9569d3",
   "metadata": {},
   "source": [
    "**Objectives:**\n",
    "- List popular data science languages\n",
    "- list common libraries\n",
    "- list common development environments\n",
    "- create code for basic math"
   ]
  },
  {
   "cell_type": "markdown",
   "id": "88ca790e-3aff-4a02-869f-2400f36614f1",
   "metadata": {},
   "source": [
    "### Some of the popular languages that data scientists use are:\n",
    "1. Python\n",
    "2. R\n",
    "3. Julia"
   ]
  },
  {
   "cell_type": "markdown",
   "id": "8f7ad457-f2f5-4bb8-b613-378b7f6b2e3b",
   "metadata": {},
   "source": [
    "### Some common Data Science libraries include:\n",
    "1. Pandas\n",
    "2. NumPy\n",
    "3. SciPy\n",
    "4. Matplotlib"
   ]
  },
  {
   "cell_type": "markdown",
   "id": "c843ce6f-c334-4118-81d5-b2a77bc0e4bf",
   "metadata": {},
   "source": [
    "| Data Science Tools |\n",
    "|--------------------|\n",
    "| Visual Studio Code|\n",
    "| Git|\n",
    "| Jupyter Notebooks|"
   ]
  },
  {
   "cell_type": "markdown",
   "id": "31462217-9c09-4793-b347-217baeda5a6b",
   "metadata": {},
   "source": [
    "### Below are a few examples of evaluating arithmetic expressions in Python"
   ]
  },
  {
   "cell_type": "code",
   "execution_count": 4,
   "id": "c4b400b9-a64d-403e-bb0f-e9496859fc2d",
   "metadata": {},
   "outputs": [
    {
     "data": {
      "text/plain": [
       "17"
      ]
     },
     "execution_count": 4,
     "metadata": {},
     "output_type": "execute_result"
    }
   ],
   "source": [
    "# This is a simple arithmetic expression to multipy and add integers\n",
    "\n",
    "(3*4)+5"
   ]
  },
  {
   "cell_type": "code",
   "execution_count": 5,
   "id": "8df24d51-f2a1-450b-8463-b3cd37c787bc",
   "metadata": {},
   "outputs": [
    {
     "name": "stdout",
     "output_type": "stream",
     "text": [
      "200 minutes =  3.3333333333333335 hours\n"
     ]
    }
   ],
   "source": [
    "# Convert 200 minutes to hours\n",
    "\n",
    "hours = 200/60\n",
    "print(\"200 minutes = \", hours, \"hours\")"
   ]
  },
  {
   "cell_type": "markdown",
   "id": "97d4e903-5df8-431d-b7eb-d18172b5881c",
   "metadata": {},
   "source": [
    "## Author\n",
    "Erik Christensen"
   ]
  },
  {
   "cell_type": "code",
   "execution_count": null,
   "id": "6098b51a-3b2c-42ec-bfcf-f72cf2d0e899",
   "metadata": {},
   "outputs": [],
   "source": []
  }
 ],
 "metadata": {
  "kernelspec": {
   "display_name": "Python 3 (ipykernel)",
   "language": "python",
   "name": "python3"
  },
  "language_info": {
   "codemirror_mode": {
    "name": "ipython",
    "version": 3
   },
   "file_extension": ".py",
   "mimetype": "text/x-python",
   "name": "python",
   "nbconvert_exporter": "python",
   "pygments_lexer": "ipython3",
   "version": "3.12.9"
  }
 },
 "nbformat": 4,
 "nbformat_minor": 5
}
